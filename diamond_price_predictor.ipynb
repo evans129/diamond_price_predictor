{
 "cells": [
  {
   "cell_type": "code",
   "execution_count": 3,
   "id": "b8d0103f",
   "metadata": {},
   "outputs": [
    {
     "name": "stderr",
     "output_type": "stream",
     "text": [
      "C:\\Users\\91911\\anaconda3\\lib\\site-packages\\xgboost\\compat.py:36: FutureWarning: pandas.Int64Index is deprecated and will be removed from pandas in a future version. Use pandas.Index with the appropriate dtype instead.\n",
      "  from pandas import MultiIndex, Int64Index\n"
     ]
    }
   ],
   "source": [
    "import pandas as pd\n",
    "from xgboost import XGBRegressor\n",
    "import seaborn as sns\n",
    "from sklearn.model_selection import train_test_split\n",
    "from sklearn.model_selection import GridSearchCV\n",
    "from sklearn.metrics import mean_absolute_error, mean_squared_error, r2_score\n",
    "import matplotlib.pyplot as plt"
   ]
  },
  {
   "cell_type": "code",
   "execution_count": 4,
   "id": "8b6f2c7a",
   "metadata": {},
   "outputs": [
    {
     "data": {
      "text/plain": [
       "carat      float64\n",
       "cut         object\n",
       "color       object\n",
       "clarity     object\n",
       "depth      float64\n",
       "table      float64\n",
       "price        int64\n",
       "x          float64\n",
       "y          float64\n",
       "z          float64\n",
       "dtype: object"
      ]
     },
     "execution_count": 4,
     "metadata": {},
     "output_type": "execute_result"
    }
   ],
   "source": [
    "diamond_df = pd.read_csv('diamonds.csv', index_col=0)\n",
    "diamond_df.head(20)\n",
    "diamond_df.shape\n",
    "diamond_df.isna().sum()\n",
    "diamond_df.dtypes"
   ]
  },
  {
   "cell_type": "code",
   "execution_count": 5,
   "id": "66de3dcd",
   "metadata": {},
   "outputs": [],
   "source": [
    "# Encode the ordinal categorical variable 'cut'\n",
    "cut_mapping = {'Fair': 0, 'Good': 1, 'Very Good': 2, 'Premium': 3, 'Ideal': 4}\n",
    "diamond_df.cut = diamond_df.cut.map(cut_mapping)\n",
    "\n",
    "# Encoding the ordinal categorical variable 'color'\n",
    "color_mapping = {'J': 0, 'I': 1, 'H': 2, 'G': 3, 'F': 4, 'E': 5, 'D': 6}\n",
    "diamond_df.color = diamond_df.color.map(color_mapping)\n",
    "\n",
    "# Encoding the ordinal cateogircal variable 'clarity'\n",
    "clarity_mapping = {'I1': 0, 'SI2': 1, 'SI1': 2, 'VS2': 3, 'VS1': 4, 'VVS2': 5, 'VVS1': 6, 'IF': 7}\n",
    "diamond_df.clarity = diamond_df.clarity.map(clarity_mapping)"
   ]
  },
  {
   "cell_type": "code",
   "execution_count": 6,
   "id": "d679c49d",
   "metadata": {},
   "outputs": [],
   "source": [
    "diamond_df = diamond_df.drop(diamond_df[diamond_df[\"x\"]==0].index)\n",
    "diamond_df = diamond_df.drop(diamond_df[diamond_df[\"y\"]==0].index)\n",
    "diamond_df = diamond_df.drop(diamond_df[diamond_df[\"z\"]==0].index)"
   ]
  },
  {
   "cell_type": "code",
   "execution_count": 7,
   "id": "610145e5",
   "metadata": {},
   "outputs": [],
   "source": [
    "diamond_df = diamond_df[diamond_df['depth'] < diamond_df['depth'].quantile(0.99)]\n",
    "diamond_df = diamond_df[diamond_df['table'] < diamond_df['table'].quantile(0.99)]\n",
    "diamond_df = diamond_df[diamond_df['x'] < diamond_df['x'].quantile(0.99)]\n",
    "diamond_df = diamond_df[diamond_df['y'] < diamond_df['y'].quantile(0.99)]\n",
    "diamond_df = diamond_df[diamond_df['z'] < diamond_df['z'].quantile(0.99)]"
   ]
  },
  {
   "cell_type": "code",
   "execution_count": 8,
   "id": "6d646be2",
   "metadata": {},
   "outputs": [],
   "source": [
    "model_df = diamond_df.copy()\n",
    "X = model_df.drop(['price'], axis=1)\n",
    "y = model_df['price']\n",
    "X_train_val, X_test, y_train_val, y_test = train_test_split(X, y, test_size=0.2, random_state=0)\n",
    "X_train, X_val, y_train, y_val = train_test_split(X_train_val, y_train_val, test_size=0.25, random_state=0)\n"
   ]
  },
  {
   "cell_type": "code",
   "execution_count": null,
   "id": "9cc03fd7",
   "metadata": {},
   "outputs": [],
   "source": [
    "xgb1 = XGBRegressor()\n",
    "parameters = {\n",
    "              'objective':['reg:squarederror'],\n",
    "              'learning_rate': [.0001, 0.001, .01],\n",
    "              'max_depth': [3, 5, 7],\n",
    "              'min_child_weight': [3,5,7],\n",
    "              'subsample': [0.1,0.5,1.0],\n",
    "              'colsample_bytree': [0.1, 0.5, 1.0],\n",
    "              'n_estimators': [500]}\n",
    "\n",
    "xgb_grid = GridSearchCV(xgb1,\n",
    "                        parameters,\n",
    "                        cv = 3,\n",
    "                        n_jobs = -1,\n",
    "                        verbose=0)\n",
    "\n",
    "xgb_grid.fit(X_train, y_train)\n",
    "\n",
    "xgb_cv = (xgb_grid.best_estimator_)\n",
    "\n",
    "eval_set = [(X_train, y_train),\n",
    "            (X_val, y_val)]\n",
    "\n",
    "fit_model = xgb_cv.fit(\n",
    "    X_train,\n",
    "    y_train,\n",
    "    eval_set=eval_set,\n",
    "    eval_metric='mae',\n",
    "    early_stopping_rounds=50,\n",
    "    verbose=False)"
   ]
  },
  {
   "cell_type": "code",
   "execution_count": null,
   "id": "4b044e6f",
   "metadata": {},
   "outputs": [],
   "source": [
    "fit_model.save_model('xgb_model.json')"
   ]
  },
  {
   "cell_type": "code",
   "execution_count": null,
   "id": "440ee449",
   "metadata": {},
   "outputs": [],
   "source": []
  }
 ],
 "metadata": {
  "kernelspec": {
   "display_name": "Python 3 (ipykernel)",
   "language": "python",
   "name": "python3"
  },
  "language_info": {
   "codemirror_mode": {
    "name": "ipython",
    "version": 3
   },
   "file_extension": ".py",
   "mimetype": "text/x-python",
   "name": "python",
   "nbconvert_exporter": "python",
   "pygments_lexer": "ipython3",
   "version": "3.9.15"
  }
 },
 "nbformat": 4,
 "nbformat_minor": 5
}
